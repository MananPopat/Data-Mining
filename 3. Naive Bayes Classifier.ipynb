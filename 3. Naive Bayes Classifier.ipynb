{
  "cells": [
    {
      "cell_type": "code",
      "execution_count": null,
      "metadata": {},
      "outputs": [],
      "source": [
        "import pandas as pd\n",
        "import numpy as np"
      ]
    },
    {
      "cell_type": "code",
      "execution_count": null,
      "metadata": {
        "colab": {
          "base_uri": "https://localhost:8080/",
          "height": 175
        },
        "id": "3c26ceMGzixU",
        "outputId": "463502cb-c158-423f-bbfc-ea289386e8d1"
      },
      "outputs": [],
      "source": [
        "dataset = pd.read_csv(\"Cars.csv\")\n",
        "dataset.describe()"
      ]
    },
    {
      "cell_type": "code",
      "execution_count": null,
      "metadata": {},
      "outputs": [],
      "source": [
        "test_indis = 79\n",
        "\n",
        "test_dataset = dataset[dataset.index % test_indis == 0]\n",
        "train_dataset = dataset[dataset.index % test_indis != 0]\n",
        "\n",
        "total = len(train_dataset)"
      ]
    },
    {
      "cell_type": "code",
      "execution_count": null,
      "metadata": {
        "colab": {
          "base_uri": "https://localhost:8080/",
          "height": 175
        },
        "id": "2gmr9nK6z8yp",
        "outputId": "11f59be8-a7fd-443f-afbe-501d39430fb8"
      },
      "outputs": [],
      "source": [
        "# unique values of clazz column\n",
        "keys_clazz = np.array(train_dataset[\"clazz\"].unique())\n",
        "\n",
        "# let's initiate a matrix to hold counts (clazz)\n",
        "p_clazz = np.zeros((len(keys_clazz)))\n",
        "\n",
        "# zip only clazz values\n",
        "for u in train_dataset[\"clazz\"]:\n",
        "    # get index of current clazz value\n",
        "    index_clazz = np.where(keys_clazz == u)\n",
        "    \n",
        "    # increment 1 the count of the clazz data.\n",
        "    p_clazz[index_clazz] += 1\n",
        "\n",
        "# let's normalize the possibilities\n",
        "p_clazz = p_clazz / np.sum(p_clazz, axis=0, keepdims=True)\n",
        "\n",
        "# we create a pandas dataframe to visualize the table more familiar\n",
        "df_p_clazz = pd.DataFrame(p_clazz, keys_clazz)\n",
        "\n",
        "# possibilities of class values\n",
        "df_p_clazz"
      ]
    },
    {
      "cell_type": "code",
      "execution_count": null,
      "metadata": {
        "colab": {
          "base_uri": "https://localhost:8080/",
          "height": 175
        },
        "id": "S8w9t73S0CS_",
        "outputId": "23b5c51a-4ac5-49b1-bc69-034ce0f0cdb9"
      },
      "outputs": [],
      "source": [
        "# unique values of buying column\n",
        "keys_buying = np.array(train_dataset[\"buying\"].unique())\n",
        "\n",
        "# unique values of clazz column\n",
        "keys_clazz = np.array(train_dataset[\"clazz\"].unique())\n",
        "\n",
        "# let's initiate a matrix to hold counts (buying X clazz)\n",
        "p_buying_given_clazz = np.zeros((len(keys_buying), len(keys_clazz)))\n",
        "\n",
        "# zip only buying and clazz values\n",
        "for u in zip(train_dataset[\"buying\"], train_dataset[\"clazz\"]):\n",
        "    # get index of current buying value\n",
        "    index_buying = np.where(keys_buying == u[0])\n",
        "    \n",
        "    # get index of current clazz value\n",
        "    index_clazz = np.where(keys_clazz == u[1])\n",
        "    \n",
        "    # increment 1 the count of the intersection of buying x clazz pair.\n",
        "    p_buying_given_clazz[[index_buying], [index_clazz]] += 1\n",
        "\n",
        "# we create a pandas dataframe to visualize the table more familiar\n",
        "df_p_buying_given_clazz = pd.DataFrame(p_buying_given_clazz, keys_buying, keys_clazz)\n",
        "\n",
        "# counts of buying given class\n",
        "df_p_buying_given_clazz"
      ]
    },
    {
      "cell_type": "code",
      "execution_count": null,
      "metadata": {
        "colab": {
          "base_uri": "https://localhost:8080/",
          "height": 175
        },
        "id": "77ONis4Q0Hoq",
        "outputId": "fa24e553-582a-40f6-bac3-a8b8325a9575"
      },
      "outputs": [],
      "source": [
        "# let's normalize the possibilities\n",
        "p_buying_given_clazz = p_buying_given_clazz / np.sum(p_buying_given_clazz, axis=0, keepdims=True)\n",
        "\n",
        "# we create a pandas dataframe to visualize the table more familiar\n",
        "df_p_buying_given_clazz = pd.DataFrame(p_buying_given_clazz, keys_buying, keys_clazz)\n",
        "\n",
        "# possibilities of buying values given class\n",
        "df_p_buying_given_clazz"
      ]
    },
    {
      "cell_type": "code",
      "execution_count": null,
      "metadata": {
        "colab": {
          "base_uri": "https://localhost:8080/",
          "height": 175
        },
        "id": "6VR1G9fo0L6W",
        "outputId": "b05281f2-dab7-4612-ad2d-e6c8324e7d48"
      },
      "outputs": [],
      "source": [
        "# unique values of maint column\n",
        "keys_maint = np.array(train_dataset[\"maint\"].unique())\n",
        "\n",
        "# unique values of clazz column\n",
        "keys_clazz = np.array(train_dataset[\"clazz\"].unique())\n",
        "\n",
        "# let's initiate a matrix to hold counts (maint X clazz)\n",
        "p_maint_given_clazz = np.zeros((len(keys_maint), len(keys_clazz)))\n",
        "\n",
        "# zip only maint and clazz values\n",
        "for u in zip(train_dataset[\"maint\"], train_dataset[\"clazz\"]):\n",
        "    # get index of current maint value\n",
        "    index_maint = np.where(keys_maint == u[0])\n",
        "    \n",
        "    # get index of current clazz value\n",
        "    index_clazz = np.where(keys_clazz == u[1])\n",
        "    \n",
        "    # increment 1 the count of the intersection of maint x clazz pair.\n",
        "    p_maint_given_clazz[[index_maint], [index_clazz]] += 1\n",
        "\n",
        "# let's normalize the possibilities\n",
        "p_maint_given_clazz = p_maint_given_clazz / np.sum(p_maint_given_clazz, axis=0, keepdims=True)\n",
        "\n",
        "# we create a pandas dataframe to visualize the table more familiar\n",
        "df_p_maint_given_clazz = pd.DataFrame(p_maint_given_clazz, keys_maint, keys_clazz)\n",
        "\n",
        "# possibilities of maint values given class\n",
        "df_p_maint_given_clazz"
      ]
    },
    {
      "cell_type": "code",
      "execution_count": null,
      "metadata": {
        "colab": {
          "base_uri": "https://localhost:8080/",
          "height": 175
        },
        "id": "uQXXlM7d0QUZ",
        "outputId": "cee366f6-7b61-49df-d521-6eeb604d7ab3"
      },
      "outputs": [],
      "source": [
        "# unique values of doors column\n",
        "keys_doors = np.array(train_dataset[\"doors\"].unique())\n",
        "\n",
        "# unique values of clazz column\n",
        "keys_clazz = np.array(train_dataset[\"clazz\"].unique())\n",
        "\n",
        "# let's initiate a matrix to hold counts (doors X clazz)\n",
        "p_doors_given_clazz = np.zeros((len(keys_doors), len(keys_clazz)))\n",
        "\n",
        "# zip only doors and clazz values\n",
        "for u in zip(train_dataset[\"doors\"], train_dataset[\"clazz\"]):\n",
        "    # get index of current doors value\n",
        "    index_doors = np.where(keys_doors == u[0])\n",
        "    \n",
        "    # get index of current clazz value\n",
        "    index_clazz = np.where(keys_clazz == u[1])\n",
        "    \n",
        "    # increment 1 the count of the intersection of doors x clazz pair.\n",
        "    p_doors_given_clazz[[index_doors], [index_clazz]] += 1\n",
        "\n",
        "# let's normalize the possibilities\n",
        "p_doors_given_clazz = p_doors_given_clazz / np.sum(p_doors_given_clazz, axis=0, keepdims=True)\n",
        "\n",
        "# we create a pandas dataframe to visualize the table more familiar\n",
        "df_p_doors_given_clazz = pd.DataFrame(p_doors_given_clazz, keys_doors, keys_clazz)\n",
        "\n",
        "# possibilities of doors values given class\n",
        "df_p_doors_given_clazz"
      ]
    },
    {
      "cell_type": "code",
      "execution_count": null,
      "metadata": {
        "colab": {
          "base_uri": "https://localhost:8080/",
          "height": 143
        },
        "id": "2MDxCMke0Uqh",
        "outputId": "23098a6a-55bd-4ea6-a01f-072f1419dbb0"
      },
      "outputs": [],
      "source": [
        "# unique values of persons column\n",
        "keys_persons = np.array(train_dataset[\"persons\"].unique())\n",
        "\n",
        "# unique values of clazz column\n",
        "keys_clazz = np.array(train_dataset[\"clazz\"].unique())\n",
        "\n",
        "# let's initiate a matrix to hold counts (persons X clazz)\n",
        "p_persons_given_clazz = np.zeros((len(keys_persons), len(keys_clazz)))\n",
        "\n",
        "# zip only persons and clazz values\n",
        "for u in zip(train_dataset[\"persons\"], train_dataset[\"clazz\"]):\n",
        "    # get index of current persons value\n",
        "    index_persons = np.where(keys_persons == u[0])\n",
        "    \n",
        "    # get index of current clazz value\n",
        "    index_clazz = np.where(keys_clazz == u[1])\n",
        "    \n",
        "    # increment 1 the count of the intersection of persons x clazz pair.\n",
        "    p_persons_given_clazz[[index_persons], [index_clazz]] += 1\n",
        "\n",
        "# let's normalize the possibilities\n",
        "p_persons_given_clazz = p_persons_given_clazz / np.sum(p_persons_given_clazz, axis=0, keepdims=True)\n",
        "\n",
        "# we create a pandas dataframe to visualize the table more familiar\n",
        "df_p_persons_given_clazz = pd.DataFrame(p_persons_given_clazz, keys_persons, keys_clazz)\n",
        "\n",
        "# possibilities of persons values given class\n",
        "df_p_persons_given_clazz"
      ]
    },
    {
      "cell_type": "code",
      "execution_count": null,
      "metadata": {
        "colab": {
          "base_uri": "https://localhost:8080/",
          "height": 143
        },
        "id": "xeUZ8L7p0ZNJ",
        "outputId": "9c1545eb-196a-494a-aa4a-35c8a2ad0ade"
      },
      "outputs": [],
      "source": [
        "# unique values of lugboot column\n",
        "keys_lugboot = np.array(train_dataset[\"lug_boot\"].unique())\n",
        "\n",
        "# unique values of clazz column\n",
        "keys_clazz = np.array(train_dataset[\"clazz\"].unique())\n",
        "\n",
        "# let's initiate a matrix to hold counts (lugboot X clazz)\n",
        "p_lugboot_given_clazz = np.zeros((len(keys_lugboot), len(keys_clazz)))\n",
        "\n",
        "# zip only lugboot and clazz values\n",
        "for u in zip(train_dataset[\"lug_boot\"], train_dataset[\"clazz\"]):\n",
        "    # get index of current lugboot value\n",
        "    index_lugboot = np.where(keys_lugboot == u[0])\n",
        "    \n",
        "    # get index of current clazz value\n",
        "    index_clazz = np.where(keys_clazz == u[1])\n",
        "    \n",
        "    # increment 1 the count of the intersection of lugboot x clazz pair.\n",
        "    p_lugboot_given_clazz[[index_lugboot], [index_clazz]] += 1\n",
        "\n",
        "# let's normalize the possibilities\n",
        "p_lugboot_given_clazz = p_lugboot_given_clazz / np.sum(p_lugboot_given_clazz, axis=0, keepdims=True)\n",
        "\n",
        "# we create a pandas dataframe to visualize the table more familiar\n",
        "df_p_lugboot_given_clazz = pd.DataFrame(p_lugboot_given_clazz, keys_lugboot, keys_clazz)\n",
        "\n",
        "# possibilities of lugboot values given class\n",
        "df_p_lugboot_given_clazz"
      ]
    },
    {
      "cell_type": "code",
      "execution_count": null,
      "metadata": {
        "colab": {
          "base_uri": "https://localhost:8080/",
          "height": 143
        },
        "id": "NNqv0yT10dlF",
        "outputId": "36fc0795-d55f-4e34-827b-62539e46717b"
      },
      "outputs": [],
      "source": [
        "# unique values of safety column\n",
        "keys_safety = np.array(train_dataset[\"safety\"].unique())\n",
        "\n",
        "# unique values of clazz column\n",
        "keys_clazz = np.array(train_dataset[\"clazz\"].unique())\n",
        "\n",
        "# let's initiate a matrix to hold counts (safety X clazz)\n",
        "p_safety_given_clazz = np.zeros((len(keys_safety), len(keys_clazz)))\n",
        "\n",
        "# zip only safety and clazz values\n",
        "for u in zip(train_dataset[\"safety\"], train_dataset[\"clazz\"]):\n",
        "    # get index of current safety value\n",
        "    index_safety = np.where(keys_safety == u[0])\n",
        "    \n",
        "    # get index of current clazz value\n",
        "    index_clazz = np.where(keys_clazz == u[1])\n",
        "    \n",
        "    # increment 1 the count of the intersection of safety x clazz pair.\n",
        "    p_safety_given_clazz[[index_safety], [index_clazz]] += 1\n",
        "\n",
        "# let's normalize the possibilities\n",
        "p_safety_given_clazz = p_safety_given_clazz / np.sum(p_safety_given_clazz, axis=0, keepdims=True)\n",
        "\n",
        "# we create a pandas dataframe to visualize the table more familiar\n",
        "df_p_safety_given_clazz = pd.DataFrame(p_safety_given_clazz, keys_safety, keys_clazz)\n",
        "\n",
        "# possibilities of safety values given class\n",
        "df_p_safety_given_clazz"
      ]
    },
    {
      "cell_type": "code",
      "execution_count": null,
      "metadata": {
        "colab": {
          "base_uri": "https://localhost:8080/",
          "height": 175
        },
        "id": "MtWp2w440iL4",
        "outputId": "49b468e4-47c4-4eb2-f34a-e7ad930443ed"
      },
      "outputs": [],
      "source": [
        "# let's compute marginal probabilities of buying values\n",
        "p_buying = np.sum(p_clazz * p_buying_given_clazz, axis=1)\n",
        "\n",
        "# we create a pandas dataframe to visualize the table more familiar\n",
        "df_p_buying = pd.DataFrame(p_buying, keys_buying)\n",
        "\n",
        "# possibilities of buying values\n",
        "df_p_buying"
      ]
    },
    {
      "cell_type": "code",
      "execution_count": null,
      "metadata": {
        "colab": {
          "base_uri": "https://localhost:8080/",
          "height": 175
        },
        "id": "mKA1J1XE0kHi",
        "outputId": "a6876f50-3184-4240-901a-b7c1e6035376"
      },
      "outputs": [],
      "source": [
        "# let's compute marginal probabilities of maint values\n",
        "p_maint = np.sum(p_clazz * p_maint_given_clazz, axis=1)\n",
        "\n",
        "# we create a pandas dataframe to visualize the table more familiar\n",
        "df_p_maint = pd.DataFrame(p_maint, keys_maint)\n",
        "\n",
        "# possibilities of maint values\n",
        "df_p_maint"
      ]
    },
    {
      "cell_type": "code",
      "execution_count": null,
      "metadata": {
        "colab": {
          "base_uri": "https://localhost:8080/",
          "height": 175
        },
        "id": "x7mNLKMl0nUi",
        "outputId": "e7838b37-80b3-40d3-bdbc-6ca8c3e1dafc"
      },
      "outputs": [],
      "source": [
        "# let's compute marginal probabilities of doors values\n",
        "p_doors = np.sum(p_clazz * p_doors_given_clazz, axis=1)\n",
        "\n",
        "# we create a pandas dataframe to visualize the table more familiar\n",
        "df_p_doors = pd.DataFrame(p_doors, keys_doors)\n",
        "\n",
        "# possibilities of doors values\n",
        "df_p_doors"
      ]
    },
    {
      "cell_type": "code",
      "execution_count": null,
      "metadata": {
        "colab": {
          "base_uri": "https://localhost:8080/",
          "height": 143
        },
        "id": "6RE0s2aW0rmv",
        "outputId": "28127ce3-6563-4a33-bd53-cb97ecfdf5f3"
      },
      "outputs": [],
      "source": [
        "# let's compute marginal probabilities of persons values\n",
        "p_persons = np.sum(p_clazz * p_persons_given_clazz, axis=1)\n",
        "\n",
        "# we create a pandas dataframe to visualize the table more familiar\n",
        "df_p_persons = pd.DataFrame(p_persons, keys_persons)\n",
        "\n",
        "# possibilities of persons values\n",
        "df_p_persons"
      ]
    },
    {
      "cell_type": "code",
      "execution_count": null,
      "metadata": {
        "colab": {
          "base_uri": "https://localhost:8080/",
          "height": 143
        },
        "id": "eU6Kb2XF0v7U",
        "outputId": "303a1626-70e9-42ef-8364-40711a74b5c9"
      },
      "outputs": [],
      "source": [
        "# let's compute marginal probabilities of lug_boot values\n",
        "p_lugboot = np.sum(p_clazz * p_lugboot_given_clazz, axis=1)\n",
        "\n",
        "# we create a pandas dataframe to visualize the table more familiar\n",
        "df_p_lugboot = pd.DataFrame(p_lugboot, keys_lugboot)\n",
        "\n",
        "# possibilities of lug_boot values\n",
        "df_p_lugboot"
      ]
    },
    {
      "cell_type": "code",
      "execution_count": null,
      "metadata": {
        "colab": {
          "base_uri": "https://localhost:8080/",
          "height": 143
        },
        "id": "apZ6zoJ201Fy",
        "outputId": "513fcbfc-7dfb-436d-ef2a-460ca8580c68"
      },
      "outputs": [],
      "source": [
        "# let's compute marginal probabilities of safety values\n",
        "p_safety = np.sum(p_clazz * p_safety_given_clazz, axis=1)\n",
        "\n",
        "# we create a pandas dataframe to visualize the table more familiar\n",
        "df_p_safety = pd.DataFrame(p_safety, keys_safety)\n",
        "\n",
        "# possibilities of safety values\n",
        "df_p_safety"
      ]
    },
    {
      "cell_type": "code",
      "execution_count": null,
      "metadata": {
        "colab": {
          "base_uri": "https://localhost:8080/"
        },
        "id": "RubxYsuw03Mr",
        "outputId": "1f34e73e-3780-430b-989f-243c86bdbeb7"
      },
      "outputs": [],
      "source": [
        "correct = 0\n",
        "for idx, item in test_dataset.iterrows():\n",
        "    alpha = 1\n",
        "    denominator = 0\n",
        "    possibilities = {}\n",
        "    for cls in keys_clazz:\n",
        "        p = 1\n",
        "        p *= (df_p_buying_given_clazz[cls][item.buying])\n",
        "        p *= (df_p_maint_given_clazz[cls][item.maint])\n",
        "        p *= (df_p_doors_given_clazz[cls][item.doors])\n",
        "        p *= (df_p_persons_given_clazz[cls][item.persons])\n",
        "        p *= (df_p_lugboot_given_clazz[cls][item.lug_boot])\n",
        "        p *= (df_p_safety_given_clazz[cls][item.safety])\n",
        "        p *= df_p_clazz[0][cls]\n",
        "        \n",
        "        denominator += p\n",
        "        \n",
        "        possibilities[cls] = p\n",
        "    # end of for loop\n",
        "    \n",
        "    possibilities.update({k: v / denominator for k, v in possibilities.items()})\n",
        "    \n",
        "    #print(possibilities)\n",
        "    correct += max(possibilities, key=possibilities.get) == item.clazz\n",
        "# end of for loop\n",
        "\n",
        "print(\"Accuracy of the Naive Bayes Classifier model is: %d%%\" % ((correct / len(test_dataset)) * 100))"
      ]
    }
  ],
  "metadata": {
    "colab": {
      "name": "Assignment3_NAIVE-BAYES.ipynb",
      "provenance": []
    },
    "kernelspec": {
      "display_name": "Python 3",
      "name": "python3"
    },
    "language_info": {
      "codemirror_mode": {
        "name": "ipython",
        "version": 3
      },
      "file_extension": ".py",
      "mimetype": "text/x-python",
      "name": "python",
      "nbconvert_exporter": "python",
      "pygments_lexer": "ipython3",
      "version": "3.9.10"
    }
  },
  "nbformat": 4,
  "nbformat_minor": 0
}
