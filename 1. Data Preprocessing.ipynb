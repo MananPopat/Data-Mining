{
  "cells": [
    {
      "cell_type": "markdown",
      "metadata": {
        "id": "631J6ed3Vooe"
      },
      "source": [
        "# **Data Preprocessing**\n",
        "Data Preprocessing is a technique that is used to convert the raw data into a clean data set. In this assignment, we will do a data preprocessing on hotel dataset. We will see how to read, access, clean, filter and plot a dataset. For each of the questions, write the code in the cell below."
      ]
    },
    {
      "cell_type": "markdown",
      "metadata": {
        "id": "HXu9RYXHLeAC"
      },
      "source": [
        "### **Loading the dataset**\n",
        "In the following cell, write the code to load the csv file and make the dataframe using the pandas library"
      ]
    },
    {
      "cell_type": "code",
      "execution_count": null,
      "metadata": {
        "id": "kzdR3TPWWjbs"
      },
      "outputs": [],
      "source": [
        "import pandas as pd\n",
        "data = pd.read_csv(\"hotel_bookings1.csv\")\n",
        "data "
      ]
    },
    {
      "cell_type": "markdown",
      "metadata": {
        "id": "IrrJIJbBUFl3"
      },
      "source": [
        "### **Questions**"
      ]
    },
    {
      "cell_type": "markdown",
      "metadata": {
        "id": "ZvfFzzBliHzX"
      },
      "source": [
        "Q1) \n",
        "The website hired a data scientist to analyse the large set of customer data.  The data scientist needs a dataset in order to analyse the customer data and perform some operations initially. Your task is to help the data scientist by  loading the dataset into a dataframe, printing the number of rows and columns and printing the value of first 10 rows.\n",
        "\n",
        "**Task-1**: Print the number of rows and columns of the dataframe.[1/2 marks]\\\n",
        "**Task-2**: Print the first 10 rows of the dataframe. [1/2 marks]"
      ]
    },
    {
      "cell_type": "code",
      "execution_count": null,
      "metadata": {
        "id": "mYAox9pUiroI"
      },
      "outputs": [],
      "source": [
        "rows = len(data.axes[0])\n",
        "cols = len(data.axes[1])\n",
        "\n",
        "print(str(rows))\n",
        "print(str(cols))\n",
        "\n",
        "result = data.head(10)\n",
        "print(result)"
      ]
    },
    {
      "cell_type": "markdown",
      "metadata": {
        "id": "cBG1YVWHjJbM"
      },
      "source": [
        "\n",
        "Q2) Hotel Booking website has many attributes which includes the information of user. How do you print all the keys (Attributes) present in the Dataset?\n",
        "\n",
        "**Task**: Print all the keys (Attributes) present in the Dataset [1 Mark]\n"
      ]
    },
    {
      "cell_type": "code",
      "execution_count": null,
      "metadata": {
        "id": "SZzXP83-k69Q"
      },
      "outputs": [],
      "source": [
        "data.keys()"
      ]
    },
    {
      "cell_type": "markdown",
      "metadata": {
        "id": "oAHHOFrMlVVK"
      },
      "source": [
        "Q3) Hotel booking website created a new policy where a user need not to deposit any money beforehand. Due to this, the administration found out that there is no need of the column 'deposit_type'. Help them to remove this column. \n",
        "\n",
        "**Task**: Remove column 'deposit_type'. [1 mark]"
      ]
    },
    {
      "cell_type": "code",
      "execution_count": null,
      "metadata": {
        "id": "dMXM-J3Wl-Ey"
      },
      "outputs": [],
      "source": [
        "data.drop(['deposit_type'], axis = 1)"
      ]
    },
    {
      "cell_type": "markdown",
      "metadata": {
        "id": "t7vyI8lzmYCL"
      },
      "source": [
        "Q4) Hotel Booking Website stores information of user in Dataset.Write a program to access first seven cells from the given Dataset using the index and column labels.\n",
        "\n",
        "**Task**: Access first seven cells from the given Dataset using the index and column labels. [1 mark]"
      ]
    },
    {
      "cell_type": "code",
      "execution_count": null,
      "metadata": {
        "id": "VVIZQNJppNeq"
      },
      "outputs": [],
      "source": [
        "data.loc[:6]"
      ]
    },
    {
      "cell_type": "code",
      "execution_count": null,
      "metadata": {},
      "outputs": [],
      "source": [
        "data.iloc[:7]"
      ]
    },
    {
      "cell_type": "markdown",
      "metadata": {
        "id": "_mKGrg9mC8P7"
      },
      "source": [
        "Q5) Real-world data would certainly have missing values. This could be due to many reasons such as data entry errors or data collection problems. How to identify sum of all missing values in the given dataset? \n",
        "\n",
        "**Task**: Identify sum of all missing values in the given dataset [1 mark]"
      ]
    },
    {
      "cell_type": "code",
      "execution_count": null,
      "metadata": {
        "id": "oL6EcDWaDRdP"
      },
      "outputs": [],
      "source": [
        "data.isnull().sum().sum()"
      ]
    },
    {
      "cell_type": "markdown",
      "metadata": {
        "id": "xUXMevW37bWZ"
      },
      "source": [
        "\n",
        "Q6) When multiple columns are passed to the subset parameter, the method will consider a row to be a duplicate only if the values of all the specified columns in that row matches with the values of the specified columns in another row. How do you find duplicates in the given DataFrame?\n",
        "\n",
        "**Task**: Find duplicates in the given DataFrame. [1 mark]\n"
      ]
    },
    {
      "cell_type": "code",
      "execution_count": null,
      "metadata": {
        "id": "qH2uYPn97d16"
      },
      "outputs": [],
      "source": [
        "data[data.duplicated(keep = 'first')]"
      ]
    },
    {
      "cell_type": "markdown",
      "metadata": {
        "id": "9FmtYPzPE8Pf"
      },
      "source": [
        "Q7)Lead time is the time taken between when a customer makes a reservation and their actual arrival. But there were instances where a customer hasen't arrived even though they reserved a room in the hotel(denoted by NaN). So inorder to calculate the overall statistics,the hotel administration decided to fill the NaN values with any suitable value. By analyzing, they found that they should replace it with the mean value. Your task is to replace all the values containing NaN in the lead time column.\n",
        "\n",
        "**Task**: Replace all the values containing NaN in the lead time column. [1 mark]\n"
      ]
    },
    {
      "cell_type": "code",
      "execution_count": null,
      "metadata": {
        "id": "9iStVH8RF1nR"
      },
      "outputs": [],
      "source": [
        "meanValue = data['lead_time'].mean()\n",
        "data.fillna(value = meanValue,inplace = True)\n",
        "data"
      ]
    },
    {
      "cell_type": "markdown",
      "metadata": {
        "id": "igx2hgq5HApL"
      },
      "source": [
        "Q8) The hotel administration decided to compare the overall statistics. So for this initially they want to compare the market segment with respect to agent.Help the administration by plotting a bar graph between market segment and agent. Also find the median agents for each type of market segment.\n",
        "\n",
        "**Task-1**: Plot a graph between market segment and agent. [1/2 mark]\n",
        "\n",
        "**Task-2**: Find the median agents for each type of market segment. [1/2 mark]"
      ]
    },
    {
      "cell_type": "code",
      "execution_count": null,
      "metadata": {
        "id": "7HpqJHW9IC3s"
      },
      "outputs": [],
      "source": [
        "import matplotlib.pyplot as plt\n",
        "x_axis=data[\"market_segment\"]\n",
        "y_axis=data[\"agent\"]\n",
        "plt.bar(x_axis,y_axis)\n",
        "plt.show()"
      ]
    },
    {
      "cell_type": "code",
      "execution_count": null,
      "metadata": {},
      "outputs": [],
      "source": [
        "y_axis=data.groupby(['market_segment']).median()['agent']\n",
        "y_axis.plot.bar()\n",
        "plt.show()"
      ]
    },
    {
      "cell_type": "markdown",
      "metadata": {
        "id": "WTPaY7YjSNf2"
      },
      "source": [
        "Q9)Help the administration to describe the statistics(mean,median,max, min,25 percentile,50 percentile,75 percentile) for the above dataset.\n",
        "\n",
        "**Task**: Describe the statistics of the dataframe. [1 mark]"
      ]
    },
    {
      "cell_type": "code",
      "execution_count": null,
      "metadata": {
        "id": "ZbC9ZJeuSbAN"
      },
      "outputs": [],
      "source": [
        "data.describe()"
      ]
    },
    {
      "cell_type": "markdown",
      "metadata": {
        "id": "NM7692fpr_im"
      },
      "source": [
        "Q10) The administration wants to contact the hotels used in the analysis. Since the dataset is huge it is difficult to find the number and names of the unique hotels manually.\n",
        "\n",
        "**Task**: Help the administration to find out the number of unique hotels and their names that have been considered in the analysis using pandas library functions [1 mark]"
      ]
    },
    {
      "cell_type": "code",
      "execution_count": null,
      "metadata": {
        "id": "yVKmKauCsE9O"
      },
      "outputs": [],
      "source": [
        "print(len(data[\"hotel\"].unique()))\n",
        "print(data.hotel.unique())"
      ]
    }
  ],
  "metadata": {
    "colab": {
      "collapsed_sections": [],
      "name": " A1.ipynb",
      "provenance": []
    },
    "kernelspec": {
      "display_name": "Python 3",
      "name": "python3"
    },
    "language_info": {
      "codemirror_mode": {
        "name": "ipython",
        "version": 3
      },
      "file_extension": ".py",
      "mimetype": "text/x-python",
      "name": "python",
      "nbconvert_exporter": "python",
      "pygments_lexer": "ipython3",
      "version": "3.8.2"
    }
  },
  "nbformat": 4,
  "nbformat_minor": 0
}
