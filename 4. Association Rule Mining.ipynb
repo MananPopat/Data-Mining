{
 "cells": [
  {
   "cell_type": "markdown",
   "id": "c59708e8",
   "metadata": {},
   "source": [
    "Association Rule Mining (Apriori Algorithm)"
   ]
  },
  {
   "cell_type": "markdown",
   "id": "c3ac5e78",
   "metadata": {},
   "source": [
    "<span style = \"font-size:larger\">Q1. (a) Generate frequent itemsets from the given dataset.</span>"
   ]
  },
  {
   "cell_type": "code",
   "execution_count": null,
   "id": "3e48d2c0",
   "metadata": {},
   "outputs": [],
   "source": [
    "import pandas as pd\n",
    "import numpy as np\n",
    "\n",
    "xl = pd.ExcelFile(\"bread.xlsx\")\n",
    "df = xl.parse('Sheet1')\n",
    "df[['Date', 'Time','Transaction','Item']] = df['Date,Time,Transaction,Item'].str.split(',', expand=True)\n",
    "df = df.drop(['Date,Time,Transaction,Item'],axis = 1)\n",
    "df = df[df['Item']!='NONE']\n",
    "df"
   ]
  },
  {
   "cell_type": "code",
   "execution_count": 4,
   "id": "c07f095a",
   "metadata": {},
   "outputs": [],
   "source": [
    "min_sup = 0.04\n",
    "min_conf = 0.5\n",
    "\n",
    "transactions = set(df['Transaction'])\n",
    "total_transac = len(transactions)\n",
    "\n",
    "#variable to store all the frequenct itemsets\n",
    "fr_itemsets = {}"
   ]
  },
  {
   "cell_type": "code",
   "execution_count": 5,
   "id": "79bf1ba3",
   "metadata": {},
   "outputs": [],
   "source": [
    "#function to return the number of transactions having all the items in a given list\n",
    "\n",
    "def validTransactions(itemset):\n",
    "    common_transac = set(df['Transaction'])\n",
    "    for x in itemset:\n",
    "        item_transac = set(df[df['Item'] == x]['Transaction'])\n",
    "        common_transac = common_transac.intersection(item_transac)\n",
    "    return len(common_transac)"
   ]
  },
  {
   "cell_type": "code",
   "execution_count": 6,
   "id": "fe2500b2",
   "metadata": {},
   "outputs": [],
   "source": [
    "#Inserting frequent one itemsets\n",
    "items = df['Item'].unique()\n",
    "\n",
    "fr1 = []\n",
    "for i in items:\n",
    "    count = validTransactions([i])\n",
    "    sup = count/total_transac\n",
    "    if sup>=min_sup:\n",
    "        fr1.append([i])\n",
    "\n",
    "fr_itemsets[1] = fr1"
   ]
  },
  {
   "cell_type": "code",
   "execution_count": null,
   "id": "a54c9287",
   "metadata": {},
   "outputs": [],
   "source": [
    "#Generating all frequent itemsets using two previous frequent itemsets F(k) = F(k-1)*F(k-1)\n",
    "\n",
    "k = 2\n",
    "\n",
    "while len(fr_itemsets[k-1])>1:\n",
    "    n = len(fr_itemsets[k-1])\n",
    "    fr_k = []\n",
    "    for i in range(n-1):\n",
    "        for j in range(i+1,n):\n",
    "            mergeable = True\n",
    "            for z in range(k-2):\n",
    "                if(fr_itemsets[k-1][i][z]!=fr_itemsets[k-1][j][z]):\n",
    "                    mergeable = False\n",
    "                    break\n",
    "\n",
    "            if(mergeable):\n",
    "                new_itemset = fr_itemsets[k-1][i][:k-2]\n",
    "                new_itemset.append(fr_itemsets[k-1][i][-1])\n",
    "                new_itemset.append(fr_itemsets[k-1][j][-1])\n",
    "                new_itemset.sort()\n",
    "                \n",
    "                sup = validTransactions(new_itemset)/total_transac\n",
    "                \n",
    "                if(sup>=min_sup):\n",
    "                    fr_k.append(new_itemset)\n",
    "                    \n",
    "    fr_itemsets[k] = fr_k\n",
    "    k+=1      \n",
    "\n",
    "#as the the last value of k has not candidates\n",
    "k-=1\n",
    "\n",
    "for x in fr_itemsets:\n",
    "    if(len(fr_itemsets[x])>0):\n",
    "        print(\"The Frequent \"+str(x)+\"-Itemsets are :\")\n",
    "        print(fr_itemsets[x])\n",
    "        print(\"\\n\")"
   ]
  },
  {
   "cell_type": "markdown",
   "id": "51ae3f42",
   "metadata": {},
   "source": [
    "<span style = \"font-size:larger\">Q1. (b) Derive association rules from the given dataset.</span>"
   ]
  },
  {
   "cell_type": "code",
   "execution_count": 8,
   "id": "367fb690",
   "metadata": {},
   "outputs": [],
   "source": [
    "def generateSubsets(val):\n",
    "    if val == []:\n",
    "        return [[]]\n",
    "    x = generateSubsets(val[1:])\n",
    "    return x + [[val[0]] + y for y in x]"
   ]
  },
  {
   "cell_type": "code",
   "execution_count": null,
   "id": "27d541e7",
   "metadata": {},
   "outputs": [],
   "source": [
    "#Generating all association rules and pruning based on confidence\n",
    "\n",
    "rules = []\n",
    "for ind in range(1,k):\n",
    "    itemsets = fr_itemsets[ind]\n",
    "    for i in itemsets:\n",
    "        subsets = generateSubsets(i)\n",
    "        for j in subsets:\n",
    "            if len(j)>0 and len(j)<len(i):\n",
    "                left = j\n",
    "                \n",
    "                #complement of left\n",
    "                right = list(x for x in i if x not in left)\n",
    "                \n",
    "                conf = validTransactions(left+right)/validTransactions(left)\n",
    "                if(conf >= min_conf):\n",
    "                    rules.append([left,right,conf])\n",
    "\n",
    "print(\"The valid Assocation Rules are :\\n\")\n",
    "for i in rules:\n",
    "    print(str(i[0]) + \" --> \"+str(i[1])+ \"   (Confidence = \"+str(i[2])+\")\")\n",
    "                "
   ]
  }
 ],
 "metadata": {
  "kernelspec": {
   "display_name": "Python 3 (ipykernel)",
   "language": "python",
   "name": "python3"
  },
  "language_info": {
   "codemirror_mode": {
    "name": "ipython",
    "version": 3
   },
   "file_extension": ".py",
   "mimetype": "text/x-python",
   "name": "python",
   "nbconvert_exporter": "python",
   "pygments_lexer": "ipython3",
   "version": "3.9.10"
  }
 },
 "nbformat": 4,
 "nbformat_minor": 5
}
