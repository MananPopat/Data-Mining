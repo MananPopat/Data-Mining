{
  "cells": [
    {
      "cell_type": "markdown",
      "metadata": {
        "id": "r2KWW1fdkKOM"
      },
      "source": [
        "**Decision Tree Classification**\n",
        "---\n",
        "\n"
      ]
    },
    {
      "cell_type": "markdown",
      "metadata": {
        "id": "U7W9AcOxkPt6"
      },
      "source": [
        "Task 1"
      ]
    },
    {
      "cell_type": "code",
      "execution_count": null,
      "metadata": {},
      "outputs": [],
      "source": [
        "import pandas as pd\n",
        "import numpy as np"
      ]
    },
    {
      "cell_type": "code",
      "execution_count": null,
      "metadata": {
        "colab": {
          "base_uri": "https://localhost:8080/",
          "height": 423
        },
        "id": "HdcLiRpdlUS-",
        "outputId": "67facaa1-439d-43d3-b414-cb085ec541cb"
      },
      "outputs": [],
      "source": [
        "path = \"drinks.csv\"\n",
        "drinks = pd.read_csv(path)\n",
        "drinks"
      ]
    },
    {
      "cell_type": "code",
      "execution_count": null,
      "metadata": {
        "colab": {
          "base_uri": "https://localhost:8080/"
        },
        "id": "mRD83PDfQTLs",
        "outputId": "3444c4e1-0f7a-4d83-9647-f3feabf2f274"
      },
      "outputs": [],
      "source": [
        "drinks[drinks.wine_servings == drinks.wine_servings.max()]['continent']"
      ]
    },
    {
      "cell_type": "code",
      "execution_count": null,
      "metadata": {
        "colab": {
          "base_uri": "https://localhost:8080/",
          "height": 237
        },
        "id": "cxi97AbBRI4m",
        "outputId": "b38a361d-5bc5-4d8a-f7b5-a54ebfb20afd"
      },
      "outputs": [],
      "source": [
        "drinks.groupby('continent').beer_servings.describe()"
      ]
    },
    {
      "cell_type": "code",
      "execution_count": null,
      "metadata": {
        "colab": {
          "base_uri": "https://localhost:8080/",
          "height": 237
        },
        "id": "gnwzxigeSDO9",
        "outputId": "ed7872e2-1f4d-4cee-a9b4-03b9f3447566"
      },
      "outputs": [],
      "source": [
        "drinks.groupby('continent').median()"
      ]
    },
    {
      "cell_type": "markdown",
      "metadata": {
        "id": "d3yKF7hZSRZq"
      },
      "source": [
        "Task 2"
      ]
    },
    {
      "cell_type": "code",
      "execution_count": null,
      "metadata": {
        "colab": {
          "base_uri": "https://localhost:8080/",
          "height": 702
        },
        "id": "q4N95NGhSTyN",
        "outputId": "5aee5941-ac02-4abe-d7ce-947630a697db"
      },
      "outputs": [],
      "source": [
        "path2 = \"Euro_2012_stats_TEAM.csv\"\n",
        "euro = pd.read_csv(path2)\n",
        "euro"
      ]
    },
    {
      "cell_type": "code",
      "execution_count": null,
      "metadata": {
        "colab": {
          "base_uri": "https://localhost:8080/"
        },
        "id": "4dzS-Q-4T0Iv",
        "outputId": "de7b77cd-be18-47a7-9736-6f7b5b7e8246"
      },
      "outputs": [],
      "source": [
        "euro.loc[:,\"Team\"]"
      ]
    },
    {
      "cell_type": "code",
      "execution_count": null,
      "metadata": {
        "colab": {
          "base_uri": "https://localhost:8080/"
        },
        "id": "5H5CljzsUZ_I",
        "outputId": "98e00a1c-fb65-430d-d4c2-82c045910c43"
      },
      "outputs": [],
      "source": [
        "euro[euro['Goals'] > 5]['Shooting Accuracy']"
      ]
    },
    {
      "cell_type": "code",
      "execution_count": null,
      "metadata": {
        "colab": {
          "base_uri": "https://localhost:8080/"
        },
        "id": "l32ZcqqwU1cg",
        "outputId": "1b14b19b-5aed-4ec4-cf34-1ad911c384b9"
      },
      "outputs": [],
      "source": [
        "euro['Goals'].sum()"
      ]
    },
    {
      "cell_type": "code",
      "execution_count": null,
      "metadata": {
        "colab": {
          "base_uri": "https://localhost:8080/",
          "height": 702
        },
        "id": "tQp20SddVNij",
        "outputId": "c5e26aea-2a8f-4124-b5ea-6fc6a12e2384"
      },
      "outputs": [],
      "source": [
        "euro.sort_values(by=['Goals'])"
      ]
    },
    {
      "cell_type": "code",
      "execution_count": null,
      "metadata": {
        "colab": {
          "base_uri": "https://localhost:8080/"
        },
        "id": "qusGnmfoWxqd",
        "outputId": "0f1b9fc0-3994-489a-dad7-6cae93e41045"
      },
      "outputs": [],
      "source": [
        "euro[euro['Red Cards'] == euro['Red Cards'].max()]['Team']"
      ]
    },
    {
      "cell_type": "markdown",
      "metadata": {
        "id": "t39i8WbAXOhE"
      },
      "source": [
        "Task 3"
      ]
    },
    {
      "cell_type": "code",
      "execution_count": null,
      "metadata": {
        "id": "I38lwH5oYLWL"
      },
      "outputs": [],
      "source": [
        "from sklearn import model_selection\n",
        "\n",
        "class Leaf:\n",
        "    def __init__(self, value):\n",
        "        self.value = value\n",
        "\n",
        "    def get_value(self):\n",
        "        return self.value\n",
        "\n",
        "    def predict(self, row):\n",
        "        return self.get_value()\n",
        "\n",
        "class Node:\n",
        "    def __init__(self, level, split_feature, split_value, left_node=None, right_node=None):\n",
        "        self.level = level\n",
        "        self.split_feature = split_feature\n",
        "        self.split_value = split_value\n",
        "        self.left_node = left_node\n",
        "        self.right_node = right_node\n",
        "\n",
        "    def predict(self, row):\n",
        "        if row[self.split_feature] >= self.split_value:\n",
        "            return self.right_node.predict(row)\n",
        "        return self.left_node.predict(row)\n",
        "\n",
        "class DecisionTreeClassifier:\n",
        "\n",
        "    def __init__(self, max_depth, gini=True):\n",
        "        self.max_depth = max_depth\n",
        "        self.gini = gini\n",
        "        self.root = None\n",
        "\n",
        "    def set_root(self, node):\n",
        "        if self.root == None:\n",
        "            self.root = node\n",
        "\n",
        "    def calc_popular_class(self, y):\n",
        "        values, freq = np.unique(y, return_counts=True)\n",
        "        idx = np.argmax(freq)\n",
        "        popular_class = values[idx]\n",
        "        return popular_class\n",
        "\n",
        "    def calc_metrics(self, y):\n",
        "        values, freq = np.unique(y, return_counts=True)\n",
        "        branch_size = float(len(y))\n",
        "        class_probabilities = freq / branch_size\n",
        "        if self.gini:\n",
        "            metric = 1 - np.sum(class_probabilities**2, axis=0)\n",
        "        else:\n",
        "            metric = np.sum(class_probabilities * np.log(class_probabilities), axis=0)\n",
        "        return metric\n",
        "\n",
        "    def get_best_split(self, X, y):\n",
        "        num_features = X.shape[1]\n",
        "        num_rows = len(y)\n",
        "        best_split_feature = 0\n",
        "        best_split_value = 0\n",
        "        best_score = np.inf\n",
        "\n",
        "        for feature in range(num_features - 1):\n",
        "            values = np.unique(X[:,feature])\n",
        "            for val in values:\n",
        "                right_data, right_labels, left_data, left_labels = self.data_split(X, y, feature, val)\n",
        "\n",
        "                score = 0\n",
        "                for subtree in [right_labels, left_labels]:\n",
        "                    score += len(subtree) * self.calc_metrics(subtree) / num_rows\n",
        "\n",
        "                if score < best_score:\n",
        "                    best_score = score\n",
        "                    best_split_feature, best_split_value = feature, val\n",
        "\n",
        "        return best_split_feature, best_split_value, best_score\n",
        "\n",
        "    def data_split(self, X, y, split_feature, split_value):\n",
        "        idx_right_subtree = X[:, split_feature] >= split_value\n",
        "        right_subtree = X[idx_right_subtree]\n",
        "        right_subtree_labels = y[idx_right_subtree]\n",
        "\n",
        "        idx_left_subtree = X[:, split_feature] < split_value\n",
        "        left_subtree = X[idx_left_subtree]\n",
        "        left_subtree_labels = y[idx_left_subtree]\n",
        "\n",
        "        return right_subtree, right_subtree_labels, left_subtree, left_subtree_labels\n",
        "\n",
        "    def fit(self, X, y):\n",
        "        self.set_root(self.split_node(X,y))\n",
        "\n",
        "    def split_node(self, X, y, node_level=0):\n",
        "        node_level +=1\n",
        "\n",
        "        if len(y) == 1:\n",
        "            return Leaf(y[0])\n",
        "\n",
        "        split_feature, split_value, score = self.get_best_split(X, y)\n",
        "        if score == 0.0 or self.max_depth < node_level:\n",
        "            popular_class = self.calc_popular_class(y)\n",
        "            return Leaf(popular_class)\n",
        "\n",
        "        right_subtree, right_subtree_labels, left_subtree, left_subtree_labels = self.data_split(X, y, split_feature, split_value)\n",
        "        if len(right_subtree_labels) == 1:\n",
        "            return Leaf(right_subtree_labels[0])\n",
        "        if len(left_subtree_labels) == 1:\n",
        "            return Leaf(left_subtree_labels[0])\n",
        "\n",
        "        right_node = self.split_node(right_subtree,right_subtree_labels, node_level)\n",
        "        left_node = self.split_node(left_subtree, left_subtree_labels, node_level)\n",
        "\n",
        "        return Node(node_level, split_feature, split_value, left_node, right_node)\n",
        "\n",
        "    def predict_labels(self, X_test):\n",
        "        preds = []\n",
        "        for row in X_test:\n",
        "            preds.append(self.root.predict(row))\n",
        "        return np.asarray(preds)\n",
        "\n",
        "    def get_accuracy(self, y, preds):\n",
        "        correct = y == preds\n",
        "        acc = ((np.sum(correct) / len(y)) * 100.0).round(2)\n",
        "        return acc"
      ]
    },
    {
      "cell_type": "code",
      "execution_count": null,
      "metadata": {
        "colab": {
          "base_uri": "https://localhost:8080/"
        },
        "id": "MJpPjrZJnx-p",
        "outputId": "a1f2d041-56fe-4d2b-e496-1c7d6cb02701"
      },
      "outputs": [],
      "source": [
        "if __name__ == '__main__':\n",
        "    # -- Data --\n",
        "    DATA_PATH = \"wdbc.data\"\n",
        "    breast_cancer_data = pd.read_csv(DATA_PATH, header=None)\n",
        "    X = np.asarray(breast_cancer_data.iloc[:, 2:])\n",
        "    y = np.asarray(breast_cancer_data.iloc[:,1]).astype('str')\n",
        "\n",
        "    # -- train, test split --\n",
        "    X_train, X_test, y_train, y_test = model_selection.train_test_split(X, y, test_size=0.25)\n",
        "\n",
        "    # -- define and train the model --\n",
        "    Max_DEPTHS = [4, 8, 16]\n",
        "    for max_depth in Max_DEPTHS:\n",
        "        tree = DecisionTreeClassifier(max_depth)\n",
        "        tree.fit(X_train, y_train)\n",
        "        preds = tree.predict_labels(X_test)\n",
        "        acc = tree.get_accuracy(y_test, preds)\n",
        "        print('For maximum depth of: ', max_depth, ', accuracy is: ', acc)"
      ]
    }
  ],
  "metadata": {
    "colab": {
      "name": "Assignment 2.ipynb",
      "provenance": []
    },
    "kernelspec": {
      "display_name": "Python 3",
      "name": "python3"
    },
    "language_info": {
      "codemirror_mode": {
        "name": "ipython",
        "version": 3
      },
      "file_extension": ".py",
      "mimetype": "text/x-python",
      "name": "python",
      "nbconvert_exporter": "python",
      "pygments_lexer": "ipython3",
      "version": "3.9.10"
    }
  },
  "nbformat": 4,
  "nbformat_minor": 0
}
